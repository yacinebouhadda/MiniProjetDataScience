{
 "cells": [
  {
   "cell_type": "markdown",
   "metadata": {},
   "source": [
    "# Introduction\n",
    "\n",
    "Houses prices is a small standard Regression problem, the data set was token from a kaggle competition, formatted in the AutoML format."
   ]
  },
  {
   "cell_type": "code",
   "execution_count": 1,
   "metadata": {},
   "outputs": [],
   "source": [
    "model_dir = 'sample_code_submission/'          \n",
    "problem_dir = 'ingestion_program/'  \n",
    "score_dir = 'scoring_program/'\n",
    "mycode_dir = 'mycode/'\n",
    "%matplotlib inline\n",
    "import numpy as np\n",
    "import pandas as pd\n",
    "import pylab as plt\n",
    "from sys import path; path.append(model_dir); path.append(problem_dir); path.append(score_dir);  path.append(mycode_dir); \n",
    "import seaborn as sns; sns.set()\n",
    "from visualisation import visualisation as vs"
   ]
  },
  {
   "cell_type": "markdown",
   "metadata": {},
   "source": [
    "# Step 1: Exploratory data analysis\n",
    "\n",
    "We provide sample_data with the starting kit, but to prepare your submission, you must fetch the public_data from the challenge website and point to it.\n"
   ]
  },
  {
   "cell_type": "code",
   "execution_count": 2,
   "metadata": {
    "collapsed": true
   },
   "outputs": [],
   "source": [
    "datadir = 'public_data/'             \n",
    "basename = 'houseprice'\n",
    "##!ls $datadir*"
   ]
  },
  {
   "cell_type": "code",
   "execution_count": 3,
   "metadata": {},
   "outputs": [
    {
     "name": "stdout",
     "output_type": "stream",
     "text": [
      "Number of examples = 12967\n",
      "Number of features = 18\n",
      "Number of variables to predict = 1\n"
     ]
    }
   ],
   "source": [
    "# We read data as Panda data frames\n",
    "feat_name = pd.read_csv(datadir+basename + '_feat.name', header=None)\n",
    "label_name = pd.read_csv(datadir+basename + '_label.name', header=None)\n",
    "\n",
    "\n",
    "X = pd.read_csv(datadir+basename + '_train.data', sep=' ', names = np.ravel(feat_name))\n",
    "Y = pd.read_csv(datadir+ basename + '_train.solution', sep=' ', names = np.ravel(label_name))\n",
    "\n",
    "\n",
    "\n",
    "X_valid = pd.read_csv(datadir+basename + '_valid.data', sep=' ', names = np.ravel(feat_name))\n",
    "Y_valid = pd.read_csv(datadir+ basename + '_valid.solution', sep=' ', names = np.ravel(label_name))\n",
    "X_test = pd.read_csv(datadir+basename + '_test.data', sep=' ', names = np.ravel(feat_name))\n",
    "Y_test = pd.read_csv(datadir+ basename + '_test.solution', sep=' ', names = np.ravel(label_name))\n",
    "\n",
    "\n",
    "\n",
    "##X['waterfront'] = X['waterfront'].astype('category',ordered=True)\n",
    "##X['view'] = X['view'].astype('category',ordered=True)\n",
    "##X['condition'] = X['condition'].astype('category',ordered=True)\n",
    "##X['grade'] = X['grade'].astype('category',ordered=False)\n",
    "\n",
    "\n",
    "X_valid['waterfront'] = X_valid['waterfront'].astype('category',ordered=True)\n",
    "X_valid['view'] = X_valid['view'].astype('category',ordered=True)\n",
    "X_valid['condition'] = X_valid['condition'].astype('category',ordered=True)\n",
    "X_valid['grade'] = X_valid['grade'].astype('category',ordered=False)\n",
    "\n",
    "\n",
    "X_test['waterfront'] = X_test['waterfront'].astype('category',ordered=True)\n",
    "X_test['view'] = X_test['view'].astype('category',ordered=True)\n",
    "X_test['condition'] = X_test['condition'].astype('category',ordered=True)\n",
    "X_test['grade'] = X_test['grade'].astype('category',ordered=False)\n",
    "\n",
    "[patnum, featnum] = X.shape\n",
    "[patnum2, classnum] = Y.shape\n",
    "assert(patnum==patnum2)\n",
    "print 'Number of examples = %d' % patnum\n",
    "print 'Number of features = %d' % featnum\n",
    "print 'Number of variables to predict = %d' % classnum"
   ]
  },
  {
   "cell_type": "code",
   "execution_count": 4,
   "metadata": {
    "scrolled": true
   },
   "outputs": [
    {
     "data": {
      "text/html": [
       "<div>\n",
       "<style>\n",
       "    .dataframe thead tr:only-child th {\n",
       "        text-align: right;\n",
       "    }\n",
       "\n",
       "    .dataframe thead th {\n",
       "        text-align: left;\n",
       "    }\n",
       "\n",
       "    .dataframe tbody tr th {\n",
       "        vertical-align: top;\n",
       "    }\n",
       "</style>\n",
       "<table border=\"1\" class=\"dataframe\">\n",
       "  <thead>\n",
       "    <tr style=\"text-align: right;\">\n",
       "      <th></th>\n",
       "      <th>sqft_living15</th>\n",
       "      <th>bathrooms</th>\n",
       "      <th>condition</th>\n",
       "      <th>sqft_basement</th>\n",
       "      <th>sqft_lot15</th>\n",
       "      <th>long</th>\n",
       "      <th>yr_renovated</th>\n",
       "      <th>grade</th>\n",
       "      <th>sqft_living</th>\n",
       "      <th>sqft_above</th>\n",
       "      <th>waterfront</th>\n",
       "      <th>view</th>\n",
       "      <th>floors</th>\n",
       "      <th>sqft_lot</th>\n",
       "      <th>bedrooms</th>\n",
       "      <th>zipcode</th>\n",
       "      <th>lat</th>\n",
       "      <th>yr_built</th>\n",
       "    </tr>\n",
       "  </thead>\n",
       "  <tbody>\n",
       "    <tr>\n",
       "      <th>count</th>\n",
       "      <td>12967.000000</td>\n",
       "      <td>12967.000000</td>\n",
       "      <td>12967.000000</td>\n",
       "      <td>12967.000000</td>\n",
       "      <td>12967.000000</td>\n",
       "      <td>12967.000000</td>\n",
       "      <td>12967.000000</td>\n",
       "      <td>12967.000000</td>\n",
       "      <td>12967.000000</td>\n",
       "      <td>12967.000000</td>\n",
       "      <td>12967.000000</td>\n",
       "      <td>12967.000000</td>\n",
       "      <td>12967.000000</td>\n",
       "      <td>1.296700e+04</td>\n",
       "      <td>12967.000000</td>\n",
       "      <td>12967.000000</td>\n",
       "      <td>12967.0</td>\n",
       "      <td>12967.000000</td>\n",
       "    </tr>\n",
       "    <tr>\n",
       "      <th>mean</th>\n",
       "      <td>1748.221177</td>\n",
       "      <td>1.700933</td>\n",
       "      <td>3.447289</td>\n",
       "      <td>302.674404</td>\n",
       "      <td>13276.086065</td>\n",
       "      <td>-121.934526</td>\n",
       "      <td>89.894347</td>\n",
       "      <td>7.593969</td>\n",
       "      <td>2050.895581</td>\n",
       "      <td>1974.819696</td>\n",
       "      <td>0.007403</td>\n",
       "      <td>0.236909</td>\n",
       "      <td>1.381430</td>\n",
       "      <td>1.577829e+04</td>\n",
       "      <td>3.361996</td>\n",
       "      <td>98077.842600</td>\n",
       "      <td>47.0</td>\n",
       "      <td>1967.422457</td>\n",
       "    </tr>\n",
       "    <tr>\n",
       "      <th>std</th>\n",
       "      <td>807.951361</td>\n",
       "      <td>0.724200</td>\n",
       "      <td>0.667537</td>\n",
       "      <td>450.478681</td>\n",
       "      <td>27260.086285</td>\n",
       "      <td>0.247370</td>\n",
       "      <td>413.970493</td>\n",
       "      <td>1.161336</td>\n",
       "      <td>908.934984</td>\n",
       "      <td>673.559639</td>\n",
       "      <td>0.085727</td>\n",
       "      <td>0.766621</td>\n",
       "      <td>0.520255</td>\n",
       "      <td>4.282275e+04</td>\n",
       "      <td>0.910324</td>\n",
       "      <td>53.935206</td>\n",
       "      <td>0.0</td>\n",
       "      <td>27.884628</td>\n",
       "    </tr>\n",
       "    <tr>\n",
       "      <th>min</th>\n",
       "      <td>380.000000</td>\n",
       "      <td>0.000000</td>\n",
       "      <td>1.000000</td>\n",
       "      <td>0.000000</td>\n",
       "      <td>660.000000</td>\n",
       "      <td>-122.000000</td>\n",
       "      <td>0.000000</td>\n",
       "      <td>3.000000</td>\n",
       "      <td>380.000000</td>\n",
       "      <td>460.000000</td>\n",
       "      <td>0.000000</td>\n",
       "      <td>0.000000</td>\n",
       "      <td>1.000000</td>\n",
       "      <td>5.720000e+02</td>\n",
       "      <td>0.000000</td>\n",
       "      <td>98001.000000</td>\n",
       "      <td>47.0</td>\n",
       "      <td>1900.000000</td>\n",
       "    </tr>\n",
       "    <tr>\n",
       "      <th>25%</th>\n",
       "      <td>1180.000000</td>\n",
       "      <td>1.000000</td>\n",
       "      <td>3.000000</td>\n",
       "      <td>0.000000</td>\n",
       "      <td>5444.500000</td>\n",
       "      <td>-122.000000</td>\n",
       "      <td>0.000000</td>\n",
       "      <td>7.000000</td>\n",
       "      <td>1410.000000</td>\n",
       "      <td>1490.000000</td>\n",
       "      <td>0.000000</td>\n",
       "      <td>0.000000</td>\n",
       "      <td>1.000000</td>\n",
       "      <td>5.444500e+03</td>\n",
       "      <td>3.000000</td>\n",
       "      <td>98033.000000</td>\n",
       "      <td>47.0</td>\n",
       "      <td>1950.000000</td>\n",
       "    </tr>\n",
       "    <tr>\n",
       "      <th>50%</th>\n",
       "      <td>1530.000000</td>\n",
       "      <td>2.000000</td>\n",
       "      <td>3.000000</td>\n",
       "      <td>0.000000</td>\n",
       "      <td>7828.000000</td>\n",
       "      <td>-122.000000</td>\n",
       "      <td>0.000000</td>\n",
       "      <td>7.000000</td>\n",
       "      <td>1890.000000</td>\n",
       "      <td>1830.000000</td>\n",
       "      <td>0.000000</td>\n",
       "      <td>0.000000</td>\n",
       "      <td>1.000000</td>\n",
       "      <td>7.900000e+03</td>\n",
       "      <td>3.000000</td>\n",
       "      <td>98065.000000</td>\n",
       "      <td>47.0</td>\n",
       "      <td>1969.000000</td>\n",
       "    </tr>\n",
       "    <tr>\n",
       "      <th>75%</th>\n",
       "      <td>2130.000000</td>\n",
       "      <td>2.000000</td>\n",
       "      <td>4.000000</td>\n",
       "      <td>600.000000</td>\n",
       "      <td>10310.000000</td>\n",
       "      <td>-122.000000</td>\n",
       "      <td>0.000000</td>\n",
       "      <td>8.000000</td>\n",
       "      <td>2500.000000</td>\n",
       "      <td>2340.000000</td>\n",
       "      <td>0.000000</td>\n",
       "      <td>0.000000</td>\n",
       "      <td>2.000000</td>\n",
       "      <td>1.105400e+04</td>\n",
       "      <td>4.000000</td>\n",
       "      <td>98118.000000</td>\n",
       "      <td>47.0</td>\n",
       "      <td>1990.000000</td>\n",
       "    </tr>\n",
       "    <tr>\n",
       "      <th>max</th>\n",
       "      <td>9410.000000</td>\n",
       "      <td>8.000000</td>\n",
       "      <td>5.000000</td>\n",
       "      <td>4820.000000</td>\n",
       "      <td>871200.000000</td>\n",
       "      <td>-121.000000</td>\n",
       "      <td>2015.000000</td>\n",
       "      <td>13.000000</td>\n",
       "      <td>13540.000000</td>\n",
       "      <td>6110.000000</td>\n",
       "      <td>1.000000</td>\n",
       "      <td>4.000000</td>\n",
       "      <td>3.000000</td>\n",
       "      <td>1.651359e+06</td>\n",
       "      <td>11.000000</td>\n",
       "      <td>98199.000000</td>\n",
       "      <td>47.0</td>\n",
       "      <td>2015.000000</td>\n",
       "    </tr>\n",
       "  </tbody>\n",
       "</table>\n",
       "</div>"
      ],
      "text/plain": [
       "       sqft_living15     bathrooms     condition  sqft_basement  \\\n",
       "count   12967.000000  12967.000000  12967.000000   12967.000000   \n",
       "mean     1748.221177      1.700933      3.447289     302.674404   \n",
       "std       807.951361      0.724200      0.667537     450.478681   \n",
       "min       380.000000      0.000000      1.000000       0.000000   \n",
       "25%      1180.000000      1.000000      3.000000       0.000000   \n",
       "50%      1530.000000      2.000000      3.000000       0.000000   \n",
       "75%      2130.000000      2.000000      4.000000     600.000000   \n",
       "max      9410.000000      8.000000      5.000000    4820.000000   \n",
       "\n",
       "          sqft_lot15          long  yr_renovated         grade   sqft_living  \\\n",
       "count   12967.000000  12967.000000  12967.000000  12967.000000  12967.000000   \n",
       "mean    13276.086065   -121.934526     89.894347      7.593969   2050.895581   \n",
       "std     27260.086285      0.247370    413.970493      1.161336    908.934984   \n",
       "min       660.000000   -122.000000      0.000000      3.000000    380.000000   \n",
       "25%      5444.500000   -122.000000      0.000000      7.000000   1410.000000   \n",
       "50%      7828.000000   -122.000000      0.000000      7.000000   1890.000000   \n",
       "75%     10310.000000   -122.000000      0.000000      8.000000   2500.000000   \n",
       "max    871200.000000   -121.000000   2015.000000     13.000000  13540.000000   \n",
       "\n",
       "         sqft_above    waterfront          view        floors      sqft_lot  \\\n",
       "count  12967.000000  12967.000000  12967.000000  12967.000000  1.296700e+04   \n",
       "mean    1974.819696      0.007403      0.236909      1.381430  1.577829e+04   \n",
       "std      673.559639      0.085727      0.766621      0.520255  4.282275e+04   \n",
       "min      460.000000      0.000000      0.000000      1.000000  5.720000e+02   \n",
       "25%     1490.000000      0.000000      0.000000      1.000000  5.444500e+03   \n",
       "50%     1830.000000      0.000000      0.000000      1.000000  7.900000e+03   \n",
       "75%     2340.000000      0.000000      0.000000      2.000000  1.105400e+04   \n",
       "max     6110.000000      1.000000      4.000000      3.000000  1.651359e+06   \n",
       "\n",
       "           bedrooms       zipcode      lat      yr_built  \n",
       "count  12967.000000  12967.000000  12967.0  12967.000000  \n",
       "mean       3.361996  98077.842600     47.0   1967.422457  \n",
       "std        0.910324     53.935206      0.0     27.884628  \n",
       "min        0.000000  98001.000000     47.0   1900.000000  \n",
       "25%        3.000000  98033.000000     47.0   1950.000000  \n",
       "50%        3.000000  98065.000000     47.0   1969.000000  \n",
       "75%        4.000000  98118.000000     47.0   1990.000000  \n",
       "max       11.000000  98199.000000     47.0   2015.000000  "
      ]
     },
     "execution_count": 4,
     "metadata": {},
     "output_type": "execute_result"
    }
   ],
   "source": [
    "X.describe()"
   ]
  },
  {
   "cell_type": "code",
   "execution_count": 5,
   "metadata": {},
   "outputs": [
    {
     "data": {
      "text/html": [
       "<div>\n",
       "<style>\n",
       "    .dataframe thead tr:only-child th {\n",
       "        text-align: right;\n",
       "    }\n",
       "\n",
       "    .dataframe thead th {\n",
       "        text-align: left;\n",
       "    }\n",
       "\n",
       "    .dataframe tbody tr th {\n",
       "        vertical-align: top;\n",
       "    }\n",
       "</style>\n",
       "<table border=\"1\" class=\"dataframe\">\n",
       "  <thead>\n",
       "    <tr style=\"text-align: right;\">\n",
       "      <th></th>\n",
       "      <th>price</th>\n",
       "    </tr>\n",
       "  </thead>\n",
       "  <tbody>\n",
       "    <tr>\n",
       "      <th>0</th>\n",
       "      <td>221900</td>\n",
       "    </tr>\n",
       "    <tr>\n",
       "      <th>1</th>\n",
       "      <td>538000</td>\n",
       "    </tr>\n",
       "    <tr>\n",
       "      <th>2</th>\n",
       "      <td>180000</td>\n",
       "    </tr>\n",
       "    <tr>\n",
       "      <th>3</th>\n",
       "      <td>604000</td>\n",
       "    </tr>\n",
       "    <tr>\n",
       "      <th>4</th>\n",
       "      <td>510000</td>\n",
       "    </tr>\n",
       "  </tbody>\n",
       "</table>\n",
       "</div>"
      ],
      "text/plain": [
       "    price\n",
       "0  221900\n",
       "1  538000\n",
       "2  180000\n",
       "3  604000\n",
       "4  510000"
      ]
     },
     "execution_count": 5,
     "metadata": {},
     "output_type": "execute_result"
    }
   ],
   "source": [
    "Y.head()"
   ]
  },
  {
   "cell_type": "code",
   "execution_count": 6,
   "metadata": {
    "collapsed": true
   },
   "outputs": [],
   "source": [
    "# Here we add the target values as a last column, this is convenient to use seaborn\n",
    "numerical_target = Y['price'] \n",
    "\n",
    "XY = X.assign(price=numerical_target.values) \n"
   ]
  },
  {
   "cell_type": "markdown",
   "metadata": {},
   "source": [
    "Let's first display the distribution of the target column (price) using a boxplot."
   ]
  },
  {
   "cell_type": "code",
   "execution_count": null,
   "metadata": {
    "collapsed": true,
    "scrolled": true
   },
   "outputs": [],
   "source": [
    "var = 'bedrooms'\n",
    "f, ax = plt.subplots(figsize=(14, 6))\n",
    "fig = sns.boxplot(x=var, y='price', data=XY)\n",
    "fig.axis(ymin=0, ymax=1500000);\n"
   ]
  },
  {
   "cell_type": "markdown",
   "metadata": {},
   "source": [
    "we can also use a histogram for our target variable"
   ]
  },
  {
   "cell_type": "code",
   "execution_count": null,
   "metadata": {
    "collapsed": true
   },
   "outputs": [],
   "source": [
    "var = 'grade'\n",
    "f, ax = plt.subplots(figsize=(12, 6))\n",
    "fig = sns.boxplot(x=var, y='price', data=XY)\n",
    "fig.axis(ymin=0, ymax=1750000)"
   ]
  },
  {
   "cell_type": "code",
   "execution_count": null,
   "metadata": {
    "collapsed": true
   },
   "outputs": [],
   "source": [
    "var = 'bathrooms'\n",
    "f, ax = plt.subplots(figsize=(14, 6))\n",
    "fig = sns.boxplot(x=var, y=\"price\", data=XY)\n",
    "fig.axis(ymin=0, ymax=3500000);"
   ]
  },
  {
   "cell_type": "code",
   "execution_count": null,
   "metadata": {
    "collapsed": true
   },
   "outputs": [],
   "source": [
    "plt.hist(XY.price, bins = 25)"
   ]
  },
  {
   "cell_type": "markdown",
   "metadata": {},
   "source": [
    "Immediately, we notice that the distribution is skewed towards cheaper homes. To make the distribution more symmetric, we can use its logarithm:"
   ]
  },
  {
   "cell_type": "code",
   "execution_count": null,
   "metadata": {
    "collapsed": true
   },
   "outputs": [],
   "source": [
    "plt.hist(np.log(XY.price), bins = 25)"
   ]
  },
  {
   "cell_type": "code",
   "execution_count": null,
   "metadata": {
    "collapsed": true
   },
   "outputs": [],
   "source": [
    "sns.stripplot(x='bedrooms', y='price',data=XY)"
   ]
  },
  {
   "cell_type": "markdown",
   "metadata": {},
   "source": [
    "The graph indicates that the relation of price with bedrooms. Price goes up with number of bedrooms upto 6 and then comes down as no of bedrooms increase."
   ]
  },
  {
   "cell_type": "code",
   "execution_count": null,
   "metadata": {
    "collapsed": true
   },
   "outputs": [],
   "source": [
    "sns.stripplot(x='grade', y='price',data=XY, size=5)\n"
   ]
  },
  {
   "cell_type": "markdown",
   "metadata": {},
   "source": [
    "Price of the house is dependent on grade of the house, higher the grade higher the price."
   ]
  },
  {
   "cell_type": "code",
   "execution_count": null,
   "metadata": {
    "collapsed": true
   },
   "outputs": [],
   "source": [
    "df=XY\n",
    "df['age_of_renov'] = 100\n",
    "df.loc[df['yr_renovated'] != 0,'age_of_renov'] = 2015-df.loc[df['yr_renovated'] != 0,'yr_renovated']\n",
    "\n",
    "sns.regplot(x='age_of_renov',y='price',data=XY)"
   ]
  },
  {
   "cell_type": "markdown",
   "metadata": {},
   "source": [
    "the relation between the price and age of renovation"
   ]
  },
  {
   "cell_type": "code",
   "execution_count": null,
   "metadata": {
    "collapsed": true
   },
   "outputs": [],
   "source": [
    "sns.regplot(x='sqft_living',y='price',data=XY)"
   ]
  },
  {
   "cell_type": "code",
   "execution_count": null,
   "metadata": {
    "collapsed": true
   },
   "outputs": [],
   "source": [
    "sns.regplot(x='sqft_basement',y='price',data=XY)"
   ]
  },
  {
   "cell_type": "code",
   "execution_count": null,
   "metadata": {
    "collapsed": true
   },
   "outputs": [],
   "source": [
    "sns.regplot(x='sqft_above',y='price',data=XY)\n"
   ]
  },
  {
   "cell_type": "code",
   "execution_count": null,
   "metadata": {
    "collapsed": true,
    "scrolled": true
   },
   "outputs": [],
   "source": [
    "sns.set()\n",
    "cols = ['price', 'sqft_living', 'grade', 'sqft_above', 'sqft_living15', 'bedrooms','bathrooms']\n",
    "sns.pairplot(XY[cols], size = 2.5,  palette='afmhot')\n",
    "plt.show();"
   ]
  },
  {
   "cell_type": "code",
   "execution_count": 8,
   "metadata": {
    "collapsed": true
   },
   "outputs": [],
   "source": [
    "visu = vs()"
   ]
  },
  {
   "cell_type": "code",
   "execution_count": 9,
   "metadata": {},
   "outputs": [
    {
     "data": {
      "text/html": [
       "<div>\n",
       "<style>\n",
       "    .dataframe thead tr:only-child th {\n",
       "        text-align: right;\n",
       "    }\n",
       "\n",
       "    .dataframe thead th {\n",
       "        text-align: left;\n",
       "    }\n",
       "\n",
       "    .dataframe tbody tr th {\n",
       "        vertical-align: top;\n",
       "    }\n",
       "</style>\n",
       "<table border=\"1\" class=\"dataframe\">\n",
       "  <thead>\n",
       "    <tr style=\"text-align: right;\">\n",
       "      <th></th>\n",
       "      <th>sqft_living15</th>\n",
       "      <th>bathrooms</th>\n",
       "      <th>condition</th>\n",
       "      <th>sqft_basement</th>\n",
       "      <th>sqft_lot15</th>\n",
       "      <th>long</th>\n",
       "      <th>yr_renovated</th>\n",
       "      <th>grade</th>\n",
       "      <th>sqft_living</th>\n",
       "      <th>sqft_above</th>\n",
       "      <th>waterfront</th>\n",
       "      <th>view</th>\n",
       "      <th>floors</th>\n",
       "      <th>sqft_lot</th>\n",
       "      <th>bedrooms</th>\n",
       "      <th>zipcode</th>\n",
       "      <th>lat</th>\n",
       "      <th>yr_built</th>\n",
       "      <th>price</th>\n",
       "    </tr>\n",
       "  </thead>\n",
       "  <tbody>\n",
       "    <tr>\n",
       "      <th>count</th>\n",
       "      <td>12967.000000</td>\n",
       "      <td>12967.000000</td>\n",
       "      <td>12967.000000</td>\n",
       "      <td>12967.000000</td>\n",
       "      <td>12967.000000</td>\n",
       "      <td>12967.000000</td>\n",
       "      <td>12967.000000</td>\n",
       "      <td>12967.000000</td>\n",
       "      <td>12967.000000</td>\n",
       "      <td>12967.000000</td>\n",
       "      <td>12967.000000</td>\n",
       "      <td>12967.000000</td>\n",
       "      <td>12967.000000</td>\n",
       "      <td>1.296700e+04</td>\n",
       "      <td>12967.000000</td>\n",
       "      <td>12967.000000</td>\n",
       "      <td>12967.0</td>\n",
       "      <td>12967.000000</td>\n",
       "      <td>1.296700e+04</td>\n",
       "    </tr>\n",
       "    <tr>\n",
       "      <th>mean</th>\n",
       "      <td>1748.221177</td>\n",
       "      <td>1.700933</td>\n",
       "      <td>3.447289</td>\n",
       "      <td>302.674404</td>\n",
       "      <td>13276.086065</td>\n",
       "      <td>-121.934526</td>\n",
       "      <td>89.894347</td>\n",
       "      <td>7.593969</td>\n",
       "      <td>2050.895581</td>\n",
       "      <td>1974.819696</td>\n",
       "      <td>0.007403</td>\n",
       "      <td>0.236909</td>\n",
       "      <td>1.381430</td>\n",
       "      <td>1.577829e+04</td>\n",
       "      <td>3.361996</td>\n",
       "      <td>98077.842600</td>\n",
       "      <td>47.0</td>\n",
       "      <td>1967.422457</td>\n",
       "      <td>5.316054e+05</td>\n",
       "    </tr>\n",
       "    <tr>\n",
       "      <th>std</th>\n",
       "      <td>807.951361</td>\n",
       "      <td>0.724200</td>\n",
       "      <td>0.667537</td>\n",
       "      <td>450.478681</td>\n",
       "      <td>27260.086285</td>\n",
       "      <td>0.247370</td>\n",
       "      <td>413.970493</td>\n",
       "      <td>1.161336</td>\n",
       "      <td>908.934984</td>\n",
       "      <td>673.559639</td>\n",
       "      <td>0.085727</td>\n",
       "      <td>0.766621</td>\n",
       "      <td>0.520255</td>\n",
       "      <td>4.282275e+04</td>\n",
       "      <td>0.910324</td>\n",
       "      <td>53.935206</td>\n",
       "      <td>0.0</td>\n",
       "      <td>27.884628</td>\n",
       "      <td>3.690935e+05</td>\n",
       "    </tr>\n",
       "    <tr>\n",
       "      <th>min</th>\n",
       "      <td>380.000000</td>\n",
       "      <td>0.000000</td>\n",
       "      <td>1.000000</td>\n",
       "      <td>0.000000</td>\n",
       "      <td>660.000000</td>\n",
       "      <td>-122.000000</td>\n",
       "      <td>0.000000</td>\n",
       "      <td>3.000000</td>\n",
       "      <td>380.000000</td>\n",
       "      <td>460.000000</td>\n",
       "      <td>0.000000</td>\n",
       "      <td>0.000000</td>\n",
       "      <td>1.000000</td>\n",
       "      <td>5.720000e+02</td>\n",
       "      <td>0.000000</td>\n",
       "      <td>98001.000000</td>\n",
       "      <td>47.0</td>\n",
       "      <td>1900.000000</td>\n",
       "      <td>7.500000e+04</td>\n",
       "    </tr>\n",
       "    <tr>\n",
       "      <th>25%</th>\n",
       "      <td>1180.000000</td>\n",
       "      <td>1.000000</td>\n",
       "      <td>3.000000</td>\n",
       "      <td>0.000000</td>\n",
       "      <td>5444.500000</td>\n",
       "      <td>-122.000000</td>\n",
       "      <td>0.000000</td>\n",
       "      <td>7.000000</td>\n",
       "      <td>1410.000000</td>\n",
       "      <td>1490.000000</td>\n",
       "      <td>0.000000</td>\n",
       "      <td>0.000000</td>\n",
       "      <td>1.000000</td>\n",
       "      <td>5.444500e+03</td>\n",
       "      <td>3.000000</td>\n",
       "      <td>98033.000000</td>\n",
       "      <td>47.0</td>\n",
       "      <td>1950.000000</td>\n",
       "      <td>3.150000e+05</td>\n",
       "    </tr>\n",
       "    <tr>\n",
       "      <th>50%</th>\n",
       "      <td>1530.000000</td>\n",
       "      <td>2.000000</td>\n",
       "      <td>3.000000</td>\n",
       "      <td>0.000000</td>\n",
       "      <td>7828.000000</td>\n",
       "      <td>-122.000000</td>\n",
       "      <td>0.000000</td>\n",
       "      <td>7.000000</td>\n",
       "      <td>1890.000000</td>\n",
       "      <td>1830.000000</td>\n",
       "      <td>0.000000</td>\n",
       "      <td>0.000000</td>\n",
       "      <td>1.000000</td>\n",
       "      <td>7.900000e+03</td>\n",
       "      <td>3.000000</td>\n",
       "      <td>98065.000000</td>\n",
       "      <td>47.0</td>\n",
       "      <td>1969.000000</td>\n",
       "      <td>4.450000e+05</td>\n",
       "    </tr>\n",
       "    <tr>\n",
       "      <th>75%</th>\n",
       "      <td>2130.000000</td>\n",
       "      <td>2.000000</td>\n",
       "      <td>4.000000</td>\n",
       "      <td>600.000000</td>\n",
       "      <td>10310.000000</td>\n",
       "      <td>-122.000000</td>\n",
       "      <td>0.000000</td>\n",
       "      <td>8.000000</td>\n",
       "      <td>2500.000000</td>\n",
       "      <td>2340.000000</td>\n",
       "      <td>0.000000</td>\n",
       "      <td>0.000000</td>\n",
       "      <td>2.000000</td>\n",
       "      <td>1.105400e+04</td>\n",
       "      <td>4.000000</td>\n",
       "      <td>98118.000000</td>\n",
       "      <td>47.0</td>\n",
       "      <td>1990.000000</td>\n",
       "      <td>6.350000e+05</td>\n",
       "    </tr>\n",
       "    <tr>\n",
       "      <th>max</th>\n",
       "      <td>9410.000000</td>\n",
       "      <td>8.000000</td>\n",
       "      <td>5.000000</td>\n",
       "      <td>4820.000000</td>\n",
       "      <td>871200.000000</td>\n",
       "      <td>-121.000000</td>\n",
       "      <td>2015.000000</td>\n",
       "      <td>13.000000</td>\n",
       "      <td>13540.000000</td>\n",
       "      <td>6110.000000</td>\n",
       "      <td>1.000000</td>\n",
       "      <td>4.000000</td>\n",
       "      <td>3.000000</td>\n",
       "      <td>1.651359e+06</td>\n",
       "      <td>11.000000</td>\n",
       "      <td>98199.000000</td>\n",
       "      <td>47.0</td>\n",
       "      <td>2015.000000</td>\n",
       "      <td>7.700000e+06</td>\n",
       "    </tr>\n",
       "  </tbody>\n",
       "</table>\n",
       "</div>"
      ],
      "text/plain": [
       "       sqft_living15     bathrooms     condition  sqft_basement  \\\n",
       "count   12967.000000  12967.000000  12967.000000   12967.000000   \n",
       "mean     1748.221177      1.700933      3.447289     302.674404   \n",
       "std       807.951361      0.724200      0.667537     450.478681   \n",
       "min       380.000000      0.000000      1.000000       0.000000   \n",
       "25%      1180.000000      1.000000      3.000000       0.000000   \n",
       "50%      1530.000000      2.000000      3.000000       0.000000   \n",
       "75%      2130.000000      2.000000      4.000000     600.000000   \n",
       "max      9410.000000      8.000000      5.000000    4820.000000   \n",
       "\n",
       "          sqft_lot15          long  yr_renovated         grade   sqft_living  \\\n",
       "count   12967.000000  12967.000000  12967.000000  12967.000000  12967.000000   \n",
       "mean    13276.086065   -121.934526     89.894347      7.593969   2050.895581   \n",
       "std     27260.086285      0.247370    413.970493      1.161336    908.934984   \n",
       "min       660.000000   -122.000000      0.000000      3.000000    380.000000   \n",
       "25%      5444.500000   -122.000000      0.000000      7.000000   1410.000000   \n",
       "50%      7828.000000   -122.000000      0.000000      7.000000   1890.000000   \n",
       "75%     10310.000000   -122.000000      0.000000      8.000000   2500.000000   \n",
       "max    871200.000000   -121.000000   2015.000000     13.000000  13540.000000   \n",
       "\n",
       "         sqft_above    waterfront          view        floors      sqft_lot  \\\n",
       "count  12967.000000  12967.000000  12967.000000  12967.000000  1.296700e+04   \n",
       "mean    1974.819696      0.007403      0.236909      1.381430  1.577829e+04   \n",
       "std      673.559639      0.085727      0.766621      0.520255  4.282275e+04   \n",
       "min      460.000000      0.000000      0.000000      1.000000  5.720000e+02   \n",
       "25%     1490.000000      0.000000      0.000000      1.000000  5.444500e+03   \n",
       "50%     1830.000000      0.000000      0.000000      1.000000  7.900000e+03   \n",
       "75%     2340.000000      0.000000      0.000000      2.000000  1.105400e+04   \n",
       "max     6110.000000      1.000000      4.000000      3.000000  1.651359e+06   \n",
       "\n",
       "           bedrooms       zipcode      lat      yr_built         price  \n",
       "count  12967.000000  12967.000000  12967.0  12967.000000  1.296700e+04  \n",
       "mean       3.361996  98077.842600     47.0   1967.422457  5.316054e+05  \n",
       "std        0.910324     53.935206      0.0     27.884628  3.690935e+05  \n",
       "min        0.000000  98001.000000     47.0   1900.000000  7.500000e+04  \n",
       "25%        3.000000  98033.000000     47.0   1950.000000  3.150000e+05  \n",
       "50%        3.000000  98065.000000     47.0   1969.000000  4.450000e+05  \n",
       "75%        4.000000  98118.000000     47.0   1990.000000  6.350000e+05  \n",
       "max       11.000000  98199.000000     47.0   2015.000000  7.700000e+06  "
      ]
     },
     "execution_count": 9,
     "metadata": {},
     "output_type": "execute_result"
    }
   ],
   "source": [
    "XY.describe()"
   ]
  },
  {
   "cell_type": "code",
   "execution_count": 10,
   "metadata": {},
   "outputs": [
    {
     "data": {
      "image/png": "[encoded data removed]",
      "text/plain": [
       "<matplotlib.figure.Figure at 0xdd92a90>"
      ]
     },
     "metadata": {},
     "output_type": "display_data"
    }
   ],
   "source": [
    "visu.histogramme_val(XY, \"sqft_above\")"
   ]
  },
  {
   "cell_type": "code",
   "execution_count": 11,
   "metadata": {},
   "outputs": [
    {
     "data": {
      "image/png": "[encoded data removed]",
      "text/plain": [
       "<matplotlib.figure.Figure at 0xdff19e8>"
      ]
     },
     "metadata": {},
     "output_type": "display_data"
    }
   ],
   "source": [
    "visu.histogramme_val(XY, \"sqft_living15\")"
   ]
  },
  {
   "cell_type": "code",
   "execution_count": 12,
   "metadata": {},
   "outputs": [
    {
     "data": {
      "image/png": "[encoded data removed]",
      "text/plain": [
       "<matplotlib.figure.Figure at 0x1003b4e0>"
      ]
     },
     "metadata": {},
     "output_type": "display_data"
    }
   ],
   "source": [
    "visu.corelation(XY)"
   ]
  },
  {
   "cell_type": "markdown",
   "metadata": {},
   "source": [
    "# Building predictive models\n",
    "The initial classifier in your sandbox.\n",
    "\n"
   ]
  },
  {
   "cell_type": "code",
   "execution_count": null,
   "metadata": {
    "collapsed": true
   },
   "outputs": [],
   "source": [
    "X = X.values\n",
    "y=numerical_target \n",
    "\n",
    "X_test = X_test.values\n",
    "y_test=Y_test['price']\n",
    "\n",
    "X_valid = X_valid.values\n",
    "y_valid=Y_valid['price']\n",
    "\n",
    "from sklearn.base import BaseEstimator\n",
    "from sklearn.ensemble import RandomForestClassifier\n",
    "from sklearn import datasets, linear_model\n",
    "from sklearn.tree import DecisionTreeRegressor\n",
    "\n",
    "class Classifier(BaseEstimator):\n",
    "    def __init__(self):\n",
    "        self.clf = linear_model.LinearRegression()\n",
    "\n",
    "    def fit(self, X, y):\n",
    "        self.clf.fit(X, y)\n",
    "\n",
    "    def predict(self, X):\n",
    "        return self.clf.predict(X)\n",
    "\n",
    "    def predict_proba(self, X):\n",
    "        return self.clf.predict_proba(X)"
   ]
  },
  {
   "cell_type": "code",
   "execution_count": null,
   "metadata": {
    "collapsed": true
   },
   "outputs": [],
   "source": [
    "from sklearn.cross_validation import StratifiedShuffleSplit\n",
    "from sklearn.metrics import accuracy_score\n",
    "from sklearn.metrics import confusion_matrix, mean_squared_error\n",
    "from sklearn import datasets, linear_model\n",
    "from sklearn.metrics import mean_squared_error, r2_score\n",
    "from sklearn.model_selection import KFold # import KFold\n",
    "from numpy import zeros, mean\n",
    "\n",
    "kf = KFold(n_splits=3,random_state=1) # Define the split - into 2 folds \n",
    "i=0\n",
    "scores = zeros(3)\n",
    "\n",
    "    \n",
    "for idx_t, idx_v in kf.split(X):\n",
    "    Xtr = X[idx_t]\n",
    "    Ytr = y[idx_t]\n",
    "   \n",
    "    Xva = X[idx_v]\n",
    "    Yva = y[idx_v]\n",
    "    clf = Classifier()\n",
    "    clf.fit(Xtr, Ytr)\n",
    "    Y_predict = clf.predict(Xva)\n",
    "    scores[i] =r2_score(Yva,Y_predict )\n",
    "    print 'Fold', i+1, 'R2 score metric = ', scores[i]\n",
    "    i=i+1\n",
    "print 'Average score = ', mean(scores)"
   ]
  },
  {
   "cell_type": "code",
   "execution_count": null,
   "metadata": {
    "collapsed": true
   },
   "outputs": [],
   "source": [
    "from sklearn.cross_validation import StratifiedShuffleSplit\n",
    "from sklearn.metrics import accuracy_score\n",
    "\n",
    "# This will perform 2-fold cross-validation\n",
    "# for 0.18 version or newer, use:\n",
    "from sklearn.model_selection import cross_val_score\n",
    "\n",
    "# for pre-0.18 versions of scikit, use:\n",
    "from sklearn.cross_validation import cross_val_score\n",
    "\n",
    "\n",
    "scores = cross_val_score(linear_model.LinearRegression(), X, y, cv=3)\n",
    "print scores"
   ]
  },
  {
   "cell_type": "code",
   "execution_count": null,
   "metadata": {
    "collapsed": true
   },
   "outputs": [],
   "source": [
    "outdir = 'sample_result_submission'"
   ]
  },
  {
   "cell_type": "code",
   "execution_count": null,
   "metadata": {
    "collapsed": true
   },
   "outputs": [],
   "source": [
    "from model import model"
   ]
  },
  {
   "cell_type": "code",
   "execution_count": null,
   "metadata": {
    "collapsed": true
   },
   "outputs": [],
   "source": [
    "M = model()\n",
    "trained_model_name = model_dir + basename\n",
    "M = M.load(trained_model_name)"
   ]
  },
  {
   "cell_type": "code",
   "execution_count": null,
   "metadata": {
    "collapsed": true
   },
   "outputs": [],
   "source": [
    "if not(M.is_trained):\n",
    "    X_train = X\n",
    "    Y_train = numerical_target\n",
    "    M.fit(X_train, Y_train)  \n",
    "Y_hat_train = M.predict(X) # Optional, not really needed to test on taining examples\n",
    "Y_hat_valid = M.predict(X_valid)\n",
    "Y_hat_test = M.predict(X_test)\n",
    "\n",
    "\n"
   ]
  },
  {
   "cell_type": "markdown",
   "metadata": {},
   "source": [
    "Save the trained model (will be ready to reload next time around) and save the prediction results:"
   ]
  },
  {
   "cell_type": "code",
   "execution_count": null,
   "metadata": {
    "collapsed": true
   },
   "outputs": [],
   "source": [
    "M.save(trained_model_name)                 \n",
    "result_name = 'sample_result_submission/' + basename\n",
    "#import os\n",
    "#os.write(result_name + '_valid.predict', Y_hat_valid)\n",
    "#os.write(result_name + '_test.predict', Y_hat_test)\n",
    "#!ls $result_name*"
   ]
  },
  {
   "cell_type": "markdown",
   "metadata": {},
   "source": [
    "# Step 3: Making a submission\n",
    "\n",
    "## Unit testing\n",
    "\n",
    "It is <b><span style=\"color:red\">important that you test your submission files before submitting them</span></b>. All you have to do to make a submission is modify the file <code>model.py</code> in the <code>sample_code_submission/</code> directory, then run this test to make sure everything works fine. This is the actual program that will be run on the server to test your submission. "
   ]
  },
  {
   "cell_type": "code",
   "execution_count": null,
   "metadata": {
    "collapsed": true
   },
   "outputs": [],
   "source": [
    "outdir = 'sample_result_submission'"
   ]
  },
  {
   "cell_type": "code",
   "execution_count": null,
   "metadata": {
    "collapsed": true
   },
   "outputs": [],
   "source": [
    "!python $problem_dir/ingestion.py $datadir $outdir $problem_dir $model_dir"
   ]
  },
  {
   "cell_type": "markdown",
   "metadata": {},
   "source": [
    "# Making submission"
   ]
  },
  {
   "cell_type": "code",
   "execution_count": null,
   "metadata": {
    "collapsed": true
   },
   "outputs": [],
   "source": [
    "outdir = 'sample_result_submission'\n",
    "!python2 $problem_dir/ingestion.py $datadir $outdir $problem_dir $model_dir"
   ]
  },
  {
   "cell_type": "code",
   "execution_count": null,
   "metadata": {
    "collapsed": true
   },
   "outputs": [],
   "source": []
  },
  {
   "cell_type": "code",
   "execution_count": null,
   "metadata": {
    "collapsed": true
   },
   "outputs": [],
   "source": []
  },
  {
   "cell_type": "code",
   "execution_count": null,
   "metadata": {
    "collapsed": true
   },
   "outputs": [],
   "source": []
  },
  {
   "cell_type": "code",
   "execution_count": null,
   "metadata": {
    "collapsed": true
   },
   "outputs": [],
   "source": []
  },
  {
   "cell_type": "code",
   "execution_count": null,
   "metadata": {
    "collapsed": true
   },
   "outputs": [],
   "source": []
  }
 ],
 "metadata": {
  "anaconda-cloud": {},
  "kernelspec": {
   "display_name": "Python 2",
   "language": "python",
   "name": "python2"
  },
  "language_info": {
   "codemirror_mode": {
    "name": "ipython",
    "version": 2
   },
   "file_extension": ".py",
   "mimetype": "text/x-python",
   "name": "python",
   "nbconvert_exporter": "python",
   "pygments_lexer": "ipython2",
   "version": "2.7.14"
  }
 },
 "nbformat": 4,
 "nbformat_minor": 1
}
